{
 "cells": [
  {
   "attachments": {},
   "cell_type": "markdown",
   "metadata": {},
   "source": [
    "# pointcloud1"
   ]
  },
  {
   "cell_type": "code",
   "execution_count": null,
   "metadata": {},
   "outputs": [],
   "source": [
    "fileName = 'pointcloud1'\n",
    "\n",
    "top_plane_point_x = -0.060090084\n",
    "top_plane_point_y = -0.15732084\n",
    "top_plane_point_z = -0.2964331"
   ]
  },
  {
   "attachments": {},
   "cell_type": "markdown",
   "metadata": {},
   "source": [
    "# pointcloud2"
   ]
  },
  {
   "cell_type": "code",
   "execution_count": null,
   "metadata": {},
   "outputs": [],
   "source": [
    "fileName = 'pointcloud2'\n",
    "\n",
    "top_plane_point_x = 0.054772258\n",
    "top_plane_point_y = -0.20004685\n",
    "top_plane_point_z = -0.4925676"
   ]
  },
  {
   "attachments": {},
   "cell_type": "markdown",
   "metadata": {},
   "source": [
    "# Pointcloud 7"
   ]
  },
  {
   "cell_type": "code",
   "execution_count": null,
   "metadata": {},
   "outputs": [],
   "source": [
    "fileName = '1673533868_-0.06753296,-0.18555829,-0.3208556'\n",
    "\n",
    "top_plane_point_x = -0.06753296\n",
    "top_plane_point_y = -0.18555829\n",
    "top_plane_point_z = -0.3208556"
   ]
  },
  {
   "attachments": {},
   "cell_type": "markdown",
   "metadata": {},
   "source": [
    "# Pointcloud 8"
   ]
  },
  {
   "cell_type": "code",
   "execution_count": null,
   "metadata": {},
   "outputs": [],
   "source": [
    "fileName = '1673533936_-0.14547378,-0.42771333,-0.43153822'\n",
    "\n",
    "top_plane_point_x = -0.14547378\n",
    "top_plane_point_y = -0.42771333\n",
    "top_plane_point_z = -0.43153822"
   ]
  },
  {
   "cell_type": "markdown",
   "metadata": {},
   "source": []
  }
 ],
 "metadata": {
  "kernelspec": {
   "display_name": "Python 3",
   "language": "python",
   "name": "python3"
  },
  "language_info": {
   "name": "python",
   "version": "3.9.13 (v3.9.13:6de2ca5339, May 17 2022, 11:37:23) \n[Clang 13.0.0 (clang-1300.0.29.30)]"
  },
  "orig_nbformat": 4,
  "vscode": {
   "interpreter": {
    "hash": "aee8b7b246df8f9039afb4144a1f6fd8d2ca17a180786b69acc140d282b71a49"
   }
  }
 },
 "nbformat": 4,
 "nbformat_minor": 2
}
