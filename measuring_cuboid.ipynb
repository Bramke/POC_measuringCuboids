{
 "cells": [
  {
   "attachments": {},
   "cell_type": "markdown",
   "metadata": {},
   "source": [
    "# Measuring cuboids\n"
   ]
  },
  {
   "cell_type": "code",
   "execution_count": 9,
   "metadata": {},
   "outputs": [],
   "source": [
    "# You can only fill in a file with a .ply extension\n",
    "fileName = '1673533868_-0.06753296,-0.18555829,-0.3208556'\n",
    "\n",
    "top_plane_point_x = -0.06753296\n",
    "top_plane_point_y = -0.18555829\n",
    "top_plane_point_z = -0.3208556"
   ]
  },
  {
   "attachments": {},
   "cell_type": "markdown",
   "metadata": {},
   "source": [
    "## 1. Importing libraries and data"
   ]
  },
  {
   "cell_type": "code",
   "execution_count": 10,
   "metadata": {},
   "outputs": [
    {
     "name": "stdout",
     "output_type": "stream",
     "text": [
      "\u001b[1;33m[Open3D WARNING] Read PLY failed: unable to open file: 1673533936_-0.14547378,-0.42771333,-0.43153822.ply\u001b[0;m\n"
     ]
    },
    {
     "name": "stderr",
     "output_type": "stream",
     "text": [
      "RPly: Unable to open file\n"
     ]
    }
   ],
   "source": [
    "import open3d as o3d\n",
    "\n",
    "# remove outliers\n",
    "cloud = o3d.io.read_point_cloud(fileName + \".ply\")"
   ]
  },
  {
   "attachments": {},
   "cell_type": "markdown",
   "metadata": {},
   "source": [
    "## 2. Statistical Outlier Filter"
   ]
  },
  {
   "cell_type": "code",
   "execution_count": 11,
   "metadata": {},
   "outputs": [
    {
     "name": "stdout",
     "output_type": "stream",
     "text": [
      "\u001b[1;33m[Open3D WARNING] Write PLY failed: point cloud has 0 points.\u001b[0;m\n"
     ]
    },
    {
     "data": {
      "text/plain": [
       "False"
      ]
     },
     "execution_count": 11,
     "metadata": {},
     "output_type": "execute_result"
    }
   ],
   "source": [
    "cloud, ind = cloud.remove_statistical_outlier(nb_neighbors=20, std_ratio=2.0)\n",
    "o3d.io.write_point_cloud(f\"{fileName}_1_statOutlierRemoval.ply\", cloud)"
   ]
  },
  {
   "attachments": {},
   "cell_type": "markdown",
   "metadata": {},
   "source": [
    "## 3. Radius Outlier Removal"
   ]
  },
  {
   "cell_type": "code",
   "execution_count": 12,
   "metadata": {},
   "outputs": [
    {
     "name": "stdout",
     "output_type": "stream",
     "text": [
      "\u001b[1;33m[Open3D WARNING] [KDTreeFlann::SetRawData] Failed due to no data.\u001b[0;m\n",
      "\u001b[1;33m[Open3D WARNING] Write PLY failed: point cloud has 0 points.\u001b[0;m\n"
     ]
    },
    {
     "data": {
      "text/plain": [
       "False"
      ]
     },
     "execution_count": 12,
     "metadata": {},
     "output_type": "execute_result"
    }
   ],
   "source": [
    "cloud, ind = cloud.remove_radius_outlier(nb_points=10, radius=0.01)\n",
    "o3d.io.write_point_cloud(f\"{fileName}_2_removeRadiusOutlier.ply\", cloud)"
   ]
  },
  {
   "attachments": {},
   "cell_type": "markdown",
   "metadata": {},
   "source": [
    "## 4. Voxel Down Sample"
   ]
  },
  {
   "cell_type": "code",
   "execution_count": 13,
   "metadata": {},
   "outputs": [
    {
     "name": "stdout",
     "output_type": "stream",
     "text": [
      "\u001b[1;33m[Open3D WARNING] Write PLY failed: point cloud has 0 points.\u001b[0;m\n"
     ]
    },
    {
     "data": {
      "text/plain": [
       "False"
      ]
     },
     "execution_count": 13,
     "metadata": {},
     "output_type": "execute_result"
    }
   ],
   "source": [
    "cloud = cloud.voxel_down_sample(voxel_size=0.005)\n",
    "o3d.io.write_point_cloud(f\"{fileName}_3_voxelDownSample.ply\", cloud)"
   ]
  },
  {
   "attachments": {},
   "cell_type": "markdown",
   "metadata": {},
   "source": [
    "# 5. Floor removal\n",
    "\\subsubsection{Verwijderen van de vloer} \n",
    "\n",
    "De volgende stap die het algoritme moet uitvoeren is het verwijderen van de vloer. Alle punten die samen het vlak vormen waar de cuboid opstaat tijdens de meting worden als de vloer beschouwd. Om dit vlak te herkennen wordt de RANSAC-methode gebruikt. De implementatie van \n",
    "\\\\\n",
    "\\textcite{Mariga_pyRANSAC-3D_2022}, pyRANSAC3D, wordt in het algoritme van deze paper gebruikt. Verder wordt ook de NumPy library van \\textcite{harris2020array} gebruikt. NumPy is een Python-bibliotheek voor het werken met numerieke data. Het biedt onder andere efficiënte implementaties van multi-dimensionale arrays en wiskundige functies om deze arrays te manipuleren. "
   ]
  },
  {
   "cell_type": "code",
   "execution_count": 14,
   "metadata": {},
   "outputs": [],
   "source": [
    "import numpy as np\n",
    "# get a random point from the top_plane and fill in the x, y and z coordinate.\n",
    "# top_plane_point_x = \n",
    "# top_plane_point_y = \n",
    "# top_plane_point_z = \n",
    "\n",
    "normal = np.array([0, 1, 0])\n",
    "top_plane_point = np.array([top_plane_point_x, top_plane_point_y, top_plane_point_z])\n",
    "top_plane_point_product = -np.dot(normal, top_plane_point)\n",
    "points = np.asarray(cloud.points)\n",
    "\n",
    "threshold = 0.02\n",
    "\n",
    "# points_in_plane = points[(np.abs(np.dot(normal, points.T) + top_plane_point_product)) < threshold]\n",
    "points_not_in_plane = points[~((np.abs(np.dot(normal, points.T) + top_plane_point_product)) < threshold)]\n"
   ]
  },
  {
   "attachments": {},
   "cell_type": "markdown",
   "metadata": {},
   "source": [
    "Als we de vloer willen verwijderen zullen we opzoek gaan naar een vlak. Hierbij kan het probleem optreden dat de bovenkant van de doos herkent wordt als het vloervlak en dus verwijderd wordt. Om dit te voorkomen zullen we de bovenvlak en 2cm eronder van de doos tijdelijk uit het pointcloud beeld verwijderen. Tijdens deze stap is er input van de gebruiker vereist. Het is de bedoeling dat de variabelen \\texttt{top_plane_point_x}, \\texttt{top_plane_point_y} en \\texttt{top_plane_point_z} ingevuld worden als de coordinaten van een punt dat zich op het bovenste vlak van de cuboid bevindt. Dit punt zal gebruikt worden om het bovenvlak te vinden en de punten die tot 2 cm daaronder liggen.\n",
    "\n",
    "\\texttt{np.asarray(cloud.points)}: Deze functie converteert de lijst van punten in de pointcloud naar een twee-dimensionale numpy array, waarbij elke rij de coordinaten van een punt bevat. Dit is handig voor het werken met de punten in de puntewolk, omdat numpy arrays gemakkelijk te indexeren zijn en snelle numerieke berekeningen mogelijk maken.\n",
    "\n",
    "\\texttt{threshold}: Hoeveel afstand een punt maximaal mag hebben tot het bovenste vlak van de cuboid om als inlier beschouwd te worden en dus mee verwijdert te worden. Dit werd in het algoritme ingesteld op \\teksttt{0.02}, dit is dus 2 cm. Hiermee moet rekeningen gehouden worden bij het opmeten van de doos, de 2 cm moet namelijk terug opgeteld worden bij de hoogte van de doos.\n",
    "\n",
    "Het bovenstevlak wordt gedefinieerd door een normaalvector, normaal, en een punt op het vlak, \\texttt{top_plane_point}.\\\\texttt{top_plane_point_product} wordt berekend als de ontkenning van het puntproduct van de normaal en het punt op het vlak.\n",
    "\n",
    "\\texttt{points_not_in_plane}: Een numpy array die de punten bevat van de pointcloud die niet binnen de gespecificeerde afstand (bepaald door de threshold) van het bovenste vlakliggen. Met andere woorden, alle punten behalve het bovenste vlak van de doos en de punten die binnen de 2cm ervan liggen."
   ]
  },
  {
   "cell_type": "code",
   "execution_count": 15,
   "metadata": {},
   "outputs": [
    {
     "name": "stdout",
     "output_type": "stream",
     "text": [
      "\u001b[1;33m[Open3D WARNING] Write PLY failed: point cloud has 0 points.\u001b[0;m\n",
      "\u001b[1;33m[Open3D WARNING] Write PLY failed: point cloud has 0 points.\u001b[0;m\n",
      "\u001b[1;33m[Open3D WARNING] Write PLY failed: point cloud has 0 points.\u001b[0;m\n"
     ]
    },
    {
     "data": {
      "text/plain": [
       "False"
      ]
     },
     "execution_count": 15,
     "metadata": {},
     "output_type": "execute_result"
    }
   ],
   "source": [
    "# Visualize\n",
    "v_points_in_plane = np.arange(points.shape[0])[(np.abs(np.dot(normal, points.T) + top_plane_point_product)) < threshold]\n",
    "v_points_not_in_plane = np.arange(points.shape[0])[~((np.abs(np.dot(normal, points.T) + top_plane_point_product)) < threshold)]\n",
    "\n",
    "\n",
    "visual = cloud.select_by_index(v_points_not_in_plane, invert=False)\n",
    "visual.paint_uniform_color([0, 1, 0])\n",
    "visual2 = cloud.select_by_index(v_points_in_plane, invert=False)\n",
    "visual2.paint_uniform_color([0, 0, 1])\n",
    "o3d.io.write_point_cloud(f\"{fileName}_x_pointsNotIP.ply\", visual)\n",
    "o3d.io.write_point_cloud(f\"{fileName}_x_pointsIP.ply\", visual2)\n",
    "o3d.io.write_point_cloud(f\"{fileName}_x_combined.ply\", visual + visual2)\n",
    "\n",
    "# TEKEN tap point\n",
    "# mesh = o3d.geometry.TriangleMesh.create_sphere(radius=0.02)\n",
    "# mesh.translate(top_plane_point)\n",
    "\n",
    "# o3d.visualization.draw_geometries([mesh, cloud])"
   ]
  },
  {
   "attachments": {},
   "cell_type": "markdown",
   "metadata": {},
   "source": []
  },
  {
   "cell_type": "code",
   "execution_count": 16,
   "metadata": {},
   "outputs": [
    {
     "ename": "ValueError",
     "evalue": "Sample larger than population or is negative",
     "output_type": "error",
     "traceback": [
      "\u001b[0;31m---------------------------------------------------------------------------\u001b[0m",
      "\u001b[0;31mValueError\u001b[0m                                Traceback (most recent call last)",
      "Cell \u001b[0;32mIn [16], line 6\u001b[0m\n\u001b[1;32m      3\u001b[0m floor_plane \u001b[39m=\u001b[39m pyrsc\u001b[39m.\u001b[39mPlane()\n\u001b[1;32m      4\u001b[0m floor_cutting \u001b[39m=\u001b[39m \u001b[39m0.02\u001b[39m\n\u001b[0;32m----> 6\u001b[0m best_eq, best_inliers \u001b[39m=\u001b[39m floor_plane\u001b[39m.\u001b[39;49mfit(points_not_in_plane, floor_cutting, \u001b[39m1000\u001b[39;49m)\n\u001b[1;32m      8\u001b[0m \u001b[39m# Points that do not belong to the floor found floorplane\u001b[39;00m\n\u001b[1;32m      9\u001b[0m points_no_floor \u001b[39m=\u001b[39m points[\u001b[39m~\u001b[39m((np\u001b[39m.\u001b[39mabs(np\u001b[39m.\u001b[39mdot(best_eq[\u001b[39m0\u001b[39m:\u001b[39m3\u001b[39m], points\u001b[39m.\u001b[39mT) \u001b[39m+\u001b[39m best_eq[\u001b[39m3\u001b[39m])) \u001b[39m<\u001b[39m threshold)]\n",
      "File \u001b[0;32m~/opt/miniconda3/lib/python3.9/site-packages/pyransac3d/plane.py:43\u001b[0m, in \u001b[0;36mPlane.fit\u001b[0;34m(self, pts, thresh, minPoints, maxIteration)\u001b[0m\n\u001b[1;32m     38\u001b[0m best_inliers \u001b[39m=\u001b[39m []\n\u001b[1;32m     40\u001b[0m \u001b[39mfor\u001b[39;00m it \u001b[39min\u001b[39;00m \u001b[39mrange\u001b[39m(maxIteration):\n\u001b[1;32m     41\u001b[0m \n\u001b[1;32m     42\u001b[0m     \u001b[39m# Samples 3 random points\u001b[39;00m\n\u001b[0;32m---> 43\u001b[0m     id_samples \u001b[39m=\u001b[39m random\u001b[39m.\u001b[39;49msample(\u001b[39mrange\u001b[39;49m(\u001b[39m0\u001b[39;49m, n_points), \u001b[39m3\u001b[39;49m)\n\u001b[1;32m     44\u001b[0m     pt_samples \u001b[39m=\u001b[39m pts[id_samples]\n\u001b[1;32m     46\u001b[0m     \u001b[39m# We have to find the plane equation described by those 3 points\u001b[39;00m\n\u001b[1;32m     47\u001b[0m     \u001b[39m# We find first 2 vectors that are part of this plane\u001b[39;00m\n\u001b[1;32m     48\u001b[0m     \u001b[39m# A = pt2 - pt1\u001b[39;00m\n\u001b[1;32m     49\u001b[0m     \u001b[39m# B = pt3 - pt1\u001b[39;00m\n",
      "File \u001b[0;32m~/opt/miniconda3/lib/python3.9/random.py:449\u001b[0m, in \u001b[0;36mRandom.sample\u001b[0;34m(self, population, k, counts)\u001b[0m\n\u001b[1;32m    447\u001b[0m randbelow \u001b[39m=\u001b[39m \u001b[39mself\u001b[39m\u001b[39m.\u001b[39m_randbelow\n\u001b[1;32m    448\u001b[0m \u001b[39mif\u001b[39;00m \u001b[39mnot\u001b[39;00m \u001b[39m0\u001b[39m \u001b[39m<\u001b[39m\u001b[39m=\u001b[39m k \u001b[39m<\u001b[39m\u001b[39m=\u001b[39m n:\n\u001b[0;32m--> 449\u001b[0m     \u001b[39mraise\u001b[39;00m \u001b[39mValueError\u001b[39;00m(\u001b[39m\"\u001b[39m\u001b[39mSample larger than population or is negative\u001b[39m\u001b[39m\"\u001b[39m)\n\u001b[1;32m    450\u001b[0m result \u001b[39m=\u001b[39m [\u001b[39mNone\u001b[39;00m] \u001b[39m*\u001b[39m k\n\u001b[1;32m    451\u001b[0m setsize \u001b[39m=\u001b[39m \u001b[39m21\u001b[39m        \u001b[39m# size of a small set minus size of an empty list\u001b[39;00m\n",
      "\u001b[0;31mValueError\u001b[0m: Sample larger than population or is negative"
     ]
    }
   ],
   "source": [
    "import pyransac3d as pyrsc\n",
    "# convert cloud to numpy array\n",
    "floor_plane = pyrsc.Plane()\n",
    "floor_cutting = 0.02\n",
    "\n",
    "best_eq, best_inliers = floor_plane.fit(points_not_in_plane, floor_cutting, 1000)\n",
    "\n",
    "# Points that do not belong to the floor found floorplane\n",
    "points_no_floor = points[~((np.abs(np.dot(best_eq[0:3], points.T) + best_eq[3])) < threshold)]\n",
    "# Points that do not belong to the floor found floorplane and are not below the floor\n",
    "points_not_below_floor = points_no_floor[~(points_no_floor[:, 1] < (-best_eq[3] / best_eq[1]))] \n",
    "\n",
    "newCloud = o3d.geometry.PointCloud()\n",
    "newCloud.points = o3d.utility.Vector3dVector(np.array(points_not_below_floor))\n",
    "# o3d.visualization.draw_geometries([newCloud])\n",
    "o3d.io.write_point_cloud(f\"{fileName}_4_floorPlane.ply\", newCloud)"
   ]
  },
  {
   "attachments": {},
   "cell_type": "markdown",
   "metadata": {},
   "source": [
    "\n",
    "\\texttt{pyrsc.Plane()}: Plane class van de PyRANSAC3D library wordt geïmporteerd en er een \\texttt{Plane} object wordt gemaakt.\n",
    "\\texttt{floor\\_cutting}: Een parameter die aangeeft hoe ver een punt maximaal van het vlak kan zijn verwijderd en nog als een inlier (dus als onderdeel van het vlak) beschouwd wordt.\\\\\n",
    "\n",
    "\\texttt{floor\\_plane.fit(points_not_in_plane, floor\\_cutting, 1000)}: De \\texttt{fit} method geeft de vergelijking van het best passende vlak en de indices van de punten die als inliers beschouwd worden terug door RANSAC toe te passen. De \\texttt{points_not_in_plane} parameter is de lijst van punten zonder bovenvlak van de doos. De \\texttt{floor\\_cutting} parameter geeft aan hoe ver een punt maximaal van het vlak kan zijn en nog als een inlier (dus als onderdeel van het vlak) beschouwd wordt. De \\texttt{1000} parameter geeft aan hoeveel iteraties het RANSAC algoritme maximaal mag doen.\\\\\n",
    "\n",
    "\\texttt{points\\_no\\_floor}: is een numpy-array die de punten bevat van de pointcloud die niet binnen het gevonden vloervlak liggen.\\\\\n",
    "\n",
    "\\texttt{points\\_not\\_below\\_floor}: Een numpy-array die de punten bevat van de pointcloud die niet onder of binnen het vloervlak liggen.\\\\\n"
   ]
  },
  {
   "attachments": {},
   "cell_type": "markdown",
   "metadata": {},
   "source": [
    "<!-- \\texttt{floor\\_plane.get\\_oriented\\_bounding\\_box():} Deze methode berekent de georiënteerde bounding box die past rond de punten die behoren tot \\texttt{floor\\_plane} object en slaat het resultaat op in het obb object. \\texttt{obb.color = [0, 0, 1]} zet de kleur van de boundingbox op blauw. \\\\\n",
    "\n",
    "\\texttt{obb.get\\_point\\_indices\\_within\\_bounding\\_box(cloud.points)} geeft een lijst van indices van punten in de puntewolk terug die zich binnen de bounding box bevinden. -->"
   ]
  },
  {
   "attachments": {},
   "cell_type": "markdown",
   "metadata": {},
   "source": [
    "## 6. Isoleren van de cuboid en zijn vlakken"
   ]
  },
  {
   "cell_type": "code",
   "execution_count": null,
   "metadata": {},
   "outputs": [],
   "source": [
    "# Alle punten vinden die in de vorm van een kubus zijn\n",
    "cuboid = pyrsc.Cuboid()\n",
    "# best_eq is een numpy matrix van 3 beste vlakkenvergelijking\n",
    "# best_inliers is een lijst van de indexen van de punten die in de kubus passen\n",
    "best_eq, best_inliers = cuboid.fit(np.asarray(points_not_below_floor), thresh=0.005)\n",
    "\n",
    "# VISUALISATIE START\n",
    "# cuboid_pcl is een pointcloud van de punten die in de kubus passen\n",
    "# not_cuboid_pcl is een pointcloud van de punten die niet in de kubus passen\n",
    "cuboid_pcl = newCloud.select_by_index(best_inliers).paint_uniform_color([1, 0, 0])\n",
    "not_cuboid_pcl = newCloud.select_by_index(best_inliers, invert=True).paint_uniform_color([0, 1, 0])\n",
    "plane = newCloud.select_by_index(best_inliers).paint_uniform_color([1, 0, 0])\n",
    "\n",
    "# Join  plane and not plane togheter \n",
    "o3d.io.write_point_cloud(f\"{fileName}_6_cuboidPcl.ply\", cuboid_pcl)\n",
    "o3d.io.write_point_cloud(f\"{fileName}_7_nonCuboidPcl.ply\", not_cuboid_pcl)\n",
    "o3d.io.write_point_cloud(f\"{fileName}_8_combinedCuboidAndNonCuboidPcl.ply\", cuboid_pcl + not_cuboid_pcl)\n",
    "# VISUALISATIE EINDE"
   ]
  },
  {
   "attachments": {},
   "cell_type": "markdown",
   "metadata": {},
   "source": [
    "Nu de vloer verwijderd is uit de pointcloud kunnen we de cuboid proberen te isoleren. De methode \\texttt{pyrsc.Cuboid()} wordt gebruikt om een \\texttt{cuboid} object aan te maken. De \\texttt{fit} methode van het Cuboid object zoekt de beste vergelijking voor 3 vlakken die een complete kubus definiëren. \\texttt{best_eq} is een numpy matrix die de vergelijking van de 3 beste vlakken bevat. \\texttt{best_inliers} is een numpy array die de punten bevat die binnen de 3 vlakken vallen."
   ]
  },
  {
   "cell_type": "code",
   "execution_count": null,
   "metadata": {},
   "outputs": [],
   "source": [
    "horizontal_plane_idx = 0\n",
    "left_plane_idx = 1\n",
    "right_plane_idx = 2\n",
    "\n",
    "# Haal de beste vlakkenvergelijkingen op voor de horizontale, linker en rechter vlakken\n",
    "top_plane = best_eq[horizontal_plane_idx]\n",
    "left_plane = best_eq[left_plane_idx]\n",
    "right_plane = best_eq[right_plane_idx]\n",
    "\n",
    "# VISUALISATIE START\n",
    "\n",
    "# VISUALISATIE EINDE"
   ]
  },
  {
   "attachments": {},
   "cell_type": "markdown",
   "metadata": {},
   "source": [
    "De gevonden beste vlakkenvergelijkingen van het horizontale, linker en rechter vlak van de cuboid worden opgehaald en in een variabele opgeslagen."
   ]
  },
  {
   "attachments": {},
   "cell_type": "markdown",
   "metadata": {},
   "source": [
    "## 7. Vectoren berekenen aan de hand van algebra\n",
    "\n",
    "Om een cuboid te draaien zodat een van zijn zijden evenwijdig is aan een van de assen (x, y of z), moeten eerst de normalen van zijn vlakken gevonden worden. Deze normalen bieden een referentiekader voor de cuboid in zijn oorspronkelijke positie en oriëntatie.\n"
   ]
  },
  {
   "cell_type": "code",
   "execution_count": null,
   "metadata": {},
   "outputs": [],
   "source": [
    "# Van waar komt deze functie? Zelfgeschreven?\n",
    "def plane_intersect(a, b):\n",
    "    \"\"\"\n",
    "    a, b   4-tuples/lists\n",
    "           Ax + By +Cz + D = 0\n",
    "           A,B,C,D in order  \n",
    "\n",
    "    output is een punt en een vector\n",
    "\n",
    "p_inter is punt op d eintersectielijn en aXb_vec is de richtingsvector\n",
    "    \"\"\"\n",
    "    a_vec, b_vec = np.array(a[:3]), np.array(b[:3])\n",
    "\n",
    "    aXb_vec = np.cross(a_vec, b_vec)\n",
    "\n",
    "    A = np.array([a_vec, b_vec, aXb_vec])\n",
    "    d = np.array([-a[3], -b[3], 0.]).reshape(3,1)\n",
    "\n",
    "    p_inter = np.linalg.solve(A, d).T\n",
    "\n",
    "    return p_inter[0], aXb_vec"
   ]
  },
  {
   "attachments": {},
   "cell_type": "markdown",
   "metadata": {},
   "source": [
    "// TODO: KORTE UITLEG EERST\n",
    "// TODO: nalezen, klopt dit?\n",
    "// Hoe leg ik kort en bondig uit wat een vector is?\n",
    "Nu we de vergelijking hebben van elk vlak kunnen we via algebraeis berekeningen ook de interesectie van 2 vlakken met elkaar zoeken.\n",
    "\n",
    "\n",
    "\n",
    "Hier word een functie \\texttt{plane\\_intersect} gedefiniëerd. Deze neemt twee argumenten op, \\texttt{a} en \\texttt{b}, die 4-tupels zijn ofwel lijsten die de vergelijkingen van twee vlakken vertegenwoordigen. In dit geval zullen dit de vlaksvergelijkingen zijn, \\texttt{floor_plane}, \\texttt{left_plane}, \\texttt{right_plane}. De functie converteert de a en b 4-tupels/lijsten naar 3-element numpy arrays \\texttt{a_vec} en \\texttt{b_vec} respectievelijk, waarbij \\texttt{a_vec} = \\[A, B, C\\] en \\texttt{b_vec} = \\[A, B, C\\].\n",
    "\n",
    "De functie converteert de a en b 4-tupels/lijsten naar 3-element numpy arrays a_vec en b_vec respectievelijk, waarbij a_vec = [A, B, C] en b_vec = [A, B, C].\n",
    "\n",
    "Vervolgens berekent het het kruisproduct van \\texttt{a_vec] en \\texttt{b_vec}, dat de richtingsvector geeft van de snijlijn van de twee vlakken, en wijst het toe aan de variabele \\texttt{aXb_vec}.\n",
    "\n",
    "Het creëert een matrix A met de rijen \\texttt{a_vec}, \\texttt{b_vec} en \\texttt{aXb_vec}, en een kolomvector d met elementen \\texttt{[-a[3], -b[3], 0}.\n",
    "\n",
    "\\texttt{linalg.solve()}: gaat op zoek naar een punt, \\texttt{p\\_inter}, dat zowel op vlak \\texttt{A} als op vlak \\texttt{B} als op de richtingsvector van de snijlijn van \\texttt{A} en \\texttt{B} ligt. Dit punt wordt geretourneerd als een 1x3 array.\n",
    "\n",
    "Het snijpunt wordt berekend met de methode linalg.solve van numpy en retourneert het snijpunt van de twee vlakken als een numpy-array van vorm (3,). De functie retourneert ook de richtingsvector van de snijlijn, \\texttt{aXb_vec}.\n",
    "\n",
    "We willen de cuboid opmeten, maar daarvoor moeten we die gelijkstellen met de assen van onze ruimte. We hebben nu enkel de vergelijking van de vlakken, maar een ruimte is gedefinieerd door 3 vectoren. We moeten dus 3 loodrechte ribben van onze kubus extraheren om de nieuwe ruimte op te stellen. Dit doen we met de intersecties, aan de hand van deze methode.\n"
   ]
  },
  {
   "cell_type": "code",
   "execution_count": null,
   "metadata": {},
   "outputs": [],
   "source": [
    "_, new_y_vector = plane_intersect(left_plane, right_plane)\n",
    "_, new_x_vector = plane_intersect(top_plane, right_plane)\n",
    "new_z_vector = np.cross(new_x_vector, new_y_vector)"
   ]
  },
  {
   "attachments": {},
   "cell_type": "markdown",
   "metadata": {},
   "source": [
    "\\texttt{np.cross()}: Deze functie wordt gebruikt om het kruisproduct van twee vectoren te berekenen. Dit kruisproduct van twee vectoren geeft als resultaat een vector die loodrecht staat op beide oorspronkelijke vectoren. De richting van deze resulterende vector kan bepaald worden door de \"rechterhandregel\". Wanneer de vingers van de rechterhand gekruld zijn in de richting van de eerste vector en de duim wijst in de richting van de tweede vector, is de resulterende vector in de richting van de uitgestrekte duim. In deze code wordt het kruisproduct van new_x_vector en new_y_vector berekend om een vector new_z_vector te verkrijgen, die loodrecht op beide vectoren staat.\n",
    "\n",
    "(TODO Afbeelding van rechterhandregel toevoegen)"
   ]
  },
  {
   "cell_type": "code",
   "execution_count": null,
   "metadata": {},
   "outputs": [],
   "source": [
    "# normalize vectors\n",
    "new_x_vector = new_x_vector / np.linalg.norm(new_x_vector)\n",
    "new_y_vector = new_y_vector / np.linalg.norm(new_y_vector)\n",
    "new_z_vector = new_z_vector / np.linalg.norm(new_z_vector)"
   ]
  },
  {
   "attachments": {},
   "cell_type": "markdown",
   "metadata": {},
   "source": [
    "Tijdens deze stap willen we onze gevonden vectoren normaliseren. In de wiskunde verwijst het normaliseren van een vector naar het proces waarbij de lengte van de vector wordt aangepast zodat deze gelijk wordt aan 1. Deze wordt dan ook wel een \"eenheidsvector\" genoemd. Hiervoor wordt in ons algoritme \\texttt{np.linalg.norm()} gebruikt. Deze methode berekent de Euclidische norm (ofwel de L2-norm) van de ingevoerde vector. Dit wordt door numpy berekend als de vierkantswortel van de som van de kwadraten van de elementen van de vector.\n",
    "\n",
    "Het resultaat van deze methode wordt gedeeld door de vector zelf om een eenheidsvector te bekomen. Deze eenheidsvector wijst nog steeds in dezelfde richting als de originele, maar hij is van lengte 1. Dit is een gebruikelijke bewerking bij vectorberekeningen, odat het ons in staat stelt gemakkelijker vectoren te vergelijken of combineren met elkaar."
   ]
  },
  {
   "attachments": {},
   "cell_type": "markdown",
   "metadata": {},
   "source": [
    "# 8. De cuboid roteren\n",
    "Nu de normalen van alle vlakken van de cuboid gevonden zijn, kunnen we deze gebruiken om de cuboid te draaien of roteren. We willen de cuboid zo roteren dat de x-,y- en z- zijden van onze cuboid  parallel zijn aan de x-,y- en z-assen. We gebruiken de normalen om een nieuw coördinatensysteem voor de cuboid te definiëren. Hierbij zijn de x-,y- en z-vectoren van het nieuwe coördinatensysteem gegeven door de normalen van de vlakken van de cuboid.\n",
    "\n",
    "Zodra deze normalen zijn gevonden, kunnen we ze gebruiken om een nieuw coördinatensysteem voor de kubus te definiëren, waarbij de x-, y- en z-vectoren van het nieuwe coördinatensysteem worden gegeven door de normalen van de vlakken van de kubus. We kunnen dan een transformatiematrix gebruiken om de kubus in dit nieuwe coördinatensysteem te roteren en uit te lijnen met de x-, y- of z-as."
   ]
  },
  {
   "cell_type": "code",
   "execution_count": null,
   "metadata": {},
   "outputs": [],
   "source": [
    "cuboid_pcl_points = np.asarray(cuboid_pcl.points)\n",
    "\n",
    "base_change_matrix = np.array([new_x_vector, new_y_vector, new_z_vector]).reshape(3,3)\n",
    "new_points = np.dot(base_change_matrix, cuboid_pcl_points.T).T"
   ]
  },
  {
   "attachments": {},
   "cell_type": "markdown",
   "metadata": {},
   "source": [
    "\\teksttt{base_change_matrix}: In deze variabele wordt een 3x3 numpy matrix opgeslagen die gemaakt werd uit de 3 input vectoren. Deze matrix zal later worden gebruikt om de cuboid_pcl_points in de volgende coderegel te roteren.\n",
    "\n",
    "\\teksttt{new_points}: Deze variabele bevat de punten van de geroteerde cuboid. \n",
    "\n",
    "\\teksttt{np.dot()}: Om de cuboid te roteren wordt numpy gebruikt om het puntproduct te berekenen. Deze bereknt de matrisvermenigvuldigingen van de \\teksttt{base_change_matrix} en de getransponeerde \\teksttt{cuboid_pcl_points} puntenwolk. Het resultaat hiervan word getransponeerd en dit geeft als resultaat een geroteerde puntenwolk. Deze is georienteerd volgens de oriëntatie van de 3 vectoren van de vlakken. Hierdoor worden deze punten uitgelijnd met de x-, y- of z-as."
   ]
  },
  {
   "cell_type": "code",
   "execution_count": null,
   "metadata": {},
   "outputs": [],
   "source": [
    "# to pointcloud\n",
    "new_cuboid_pcl = o3d.geometry.PointCloud()\n",
    "new_cuboid_pcl.points = o3d.utility.Vector3dVector(new_points)\n",
    "\n",
    "# # visualize\n",
    "# o3d.io.write_point_cloud(f\"{fileName}_10_newCuboid.ply\", new_cuboid_pcl)\n",
    "\n",
    "# # TODO Waarom hier nog eens radius removal? \n",
    "# new_cuboid_pcl, ind = new_cuboid_pcl.remove_radius_outlier(nb_points=16, radius=0.01)\n",
    "# # visualize\n",
    "# o3d.io.write_point_cloud(f\"{fileName}_11_newCuboidAfterRadiusRemoval.ply\", new_cuboid_pcl)\n"
   ]
  },
  {
   "attachments": {},
   "cell_type": "markdown",
   "metadata": {},
   "source": [
    "\\teksttt{new_cuboid_pcl}: In deze variabele wordt de geroteerde punten van \\teksttt{new_points} opgeslagen als een open3d PointCloud object."
   ]
  },
  {
   "cell_type": "code",
   "execution_count": null,
   "metadata": {},
   "outputs": [],
   "source": [
    "# new_cuboid_pcl_points = np.asarray(new_cuboid_pcl.points)\n",
    "# max_dist_from_neighbor = 0.02\n",
    "# points_to_remove = []\n",
    "# # Filtermethode neighbour filtering?\n",
    "# # Is deze stap nu nog nodig?\n",
    "# for axis in range(3):\n",
    "#     new_cuboid_pcl_points_axis = new_cuboid_pcl_points[:, axis]\n",
    "#     new_cuboid_pcl_points_axis_sorted_indices = np.argsort(new_cuboid_pcl_points_axis)\n",
    "#     new_cuboid_pcl_points_axis_sorted = new_cuboid_pcl_points_axis[new_cuboid_pcl_points_axis_sorted_indices]\n",
    "#     new_cuboid_pcl_points_axis_sorted_diff = np.diff(new_cuboid_pcl_points_axis_sorted)\n",
    "#     new_cuboid_pcl_points_axis_sorted_diff = np.append(new_cuboid_pcl_points_axis_sorted_diff, 0)\n",
    "#     new_cuboid_pcl_points_axis_sorted_diff = np.abs(new_cuboid_pcl_points_axis_sorted_diff)\n",
    "#     high_diff_points = np.where(new_cuboid_pcl_points_axis_sorted_diff > max_dist_from_neighbor)[0]\n",
    "\n",
    "#     for p in high_diff_points:\n",
    "#         points_to_remove.extend(list(new_cuboid_pcl_points_axis_sorted_indices[np.arange(p + 1, len(new_cuboid_pcl_points_axis_sorted_indices))])) \n",
    "\n",
    "# new_cuboid_pcl = new_cuboid_pcl.select_by_index(points_to_remove, invert=True)\n",
    "\n",
    "# # (TODO: vraag: is deze stap echt nodig?)\n",
    "# new_cleaned_cuboid_pcl, ind = new_cuboid_pcl.remove_radius_outlier(nb_points=16, radius=0.01)\n",
    "\n",
    "# o3d.io.write_point_cloud(f\"{fileName}_12_newCuboidAfterRadiusRemoval.ply\", new_cuboid_pcl)\n",
    "# o3d.io.write_point_cloud(f\"{fileName}_13_cleanedCuboid.ply\", new_cleaned_cuboid_pcl)"
   ]
  },
  {
   "cell_type": "code",
   "execution_count": null,
   "metadata": {},
   "outputs": [],
   "source": [
    "def selectClosestCluster(pcd, top_plane_point):\n",
    "    pcdPoints = np.asarray(pcd.points)\n",
    "    clusterLabels = np.asarray(pcd.cluster_dbscan(eps=0.01, min_points=10))\n",
    "\n",
    "    nonNoisePoints = pcdPoints[clusterLabels != -1]\n",
    "    nonNoiseClusterLabels = clusterLabels[clusterLabels != -1]\n",
    "    pointDistances = np.linalg.norm(nonNoisePoints - np.asarray(top_plane_point), axis=1)\n",
    "\n",
    "    closestPointIdx = np.argmin(pointDistances)\n",
    "    closestPointLabel = nonNoiseClusterLabels[closestPointIdx]\n",
    "\n",
    "    new_cuboid_pcl = o3d.geometry.PointCloud()\n",
    "    new_cuboid_pcl.points = o3d.utility.Vector3dVector(pcdPoints[clusterLabels == closestPointLabel])\n",
    "\n",
    "    return new_cuboid_pcl\n",
    "\n",
    "new_cuboid_pcl = selectClosestCluster(new_cuboid_pcl, top_plane_point)\n",
    "# # Visualize\n",
    "# o3d.io.write_point_cloud(f\"{fileName}_13_newCuboidPcl.ply\", new_cuboid_pcl)"
   ]
  },
  {
   "attachments": {},
   "cell_type": "markdown",
   "metadata": {},
   "source": [
    "\\texttt{selectClosestCluster}: Is een functie die zoekt naar een cluster datapunten die het dichts bij het gegeven \\texttt{top\\_plane\\_point} ligt.\n",
    "\\\\\n",
    "\\texttt{new\\_cuboid\\_pcl}: Bevat het resultaat van de \\texttt{selectClosestCluster}. Het gegeven punt en de gevonden pointcloud object van de cuboid worden meegegeven als inputparameters. De \\texttt{clusterlabels} zijn het resultaat van een DBSCAN-clustering op de input pointcloud. Deze wordt geconverteerd naar een numpy array. Vervolgens worden de punten en labels die door het DBSCAN-algoritme als ruis werden beschouwd geselecteerd. Dit gebeurt door de punten te selecteren waarvan de labels niet gelijk zijn aan -1. Deze punten worden opgeslagen in de variabelen \\texttt{nonNoisePoints} en \\texttt{nonNoiseClusterLabels}. \n",
    "\\\\\n",
    "De functie berekent daarna de afstand van elk punt in \\texttt{nonNoisePoints} tot \\texttt{top_plane_point} met behulp van de L2-norm en slaat het resultaat op in \\texttt{pointDistances}. \\texttt{np.argmin()} wordt gebruikt om de index te vinden van het punt in \\texttt{nonNoisePoints} dat de minimale afstand heeft tot \\texttt{top_plane_point} en slaat het op in de variabele \\texttt{closerPointIdx}. Vervolgens worden de labels van het dichtstbijzijnde punt gevonden door het overeenkomstige label te selecteren uit \\texttt{nonNoiseClusterLabels} en slaat het op in de variabele \\texttt{closestPointLabel}.\n",
    "\\\\\n",
    "De functie maakt daaropvolgend een nieuw puntenwolkobject met de naam \\texttt{new\\_cuboid\\_pcl} en wijst er alleen de punten van de oorspronkelijke puntenwolk aan toe waarvan de labels overeenkomen met het label \\texttt{closestPointLabel}. Dit geeft als resultaat een puntenwolk die alleen de punten bevat die behoren tot de cluster die het dichtst bij \\texttt{top\\_plane\\_point} ligt.\n",
    "\\\\\n",
    "Ten slotte retourneert de functie het nieuwe gefilterde puntenwolkobject \\texttt{new\\_cuboid\\_pcl}"
   ]
  },
  {
   "attachments": {},
   "cell_type": "markdown",
   "metadata": {},
   "source": [
    "# 9. Begrenzingskader rond cuboid passen\n",
    "\n",
    "In deze stap zullen we een begrenzingskader of bounding box rond de overgebleven punten van de cuboid passen.\n",
    "Een begrenzingskader is een vierkant dat rond een object wordt getrokken om dit object te omsluiten. Het kan gebruikt worden om het minimale gebied te identificeren die het object bevat. Dit zal ons later helpen bij de opmeting van de doos."
   ]
  },
  {
   "cell_type": "code",
   "execution_count": null,
   "metadata": {},
   "outputs": [],
   "source": [
    "# get axis aligned bounding box\n",
    "bb = new_cuboid_pcl.get_axis_aligned_bounding_box()\n",
    "bb.color = [0, 1, 0]\n",
    "\n",
    "# # TODO: vraag: is deze stap echt nodig?\n",
    "# bb.get_extent()"
   ]
  },
  {
   "attachments": {},
   "cell_type": "markdown",
   "metadata": {},
   "source": [
    "\\texttt{bb}: In deze variable word een axis aligned bounding box ofwel een as-uitgelijnd begrenzingskader (AABB) opgeslagen. De term \"as-uitgelijnd\" verwijst naar het feit dat de randen van het begrenzingskader evenwijdig zijn aan de assen van het coördinatensysteem, in plaats van onder een hoek of geroteerd te zijn. Dit type begrenzingskaders is eenvoudig en efficiënt te berekenen en te gebruiken, maar het kan leiden tot een groter begrenzingskader dan nodig is, vooral als de vorm van het object complex of geroteerd is. Dit is ook de reden waarom we onze originele cuboid geroteerd hebben in de vorige stappen.\n",
    "\\\\\n",
    "Dit is een begrenzingskader dat wordt gedefinieerd door twee punten die de minimale en maximale omvang van het kader langs elke as vertegenwoordigen. Met andere woorden, het is een rechthoekige doos die is uitgelijnd met de XYZ-assen van het coördinatensysteem, en het kan worden gebruikt om een 3D-object of een reeks punten te begrenzen.\n",
    "\\\\\n",
    "\\texttt{get_axis_aligned_bounding_box()}: Deze functie wordt gebruikt om een AABB te berekenen voor een puntenwolk. Om de AABB te construeren, herhaalt het alle punten van de puntenwolk en vindt het de min/max-waarde van de x-, y- en z-coördinaten van de puntenwolk. Vervolgens worden de min/max-waarden gebruikt om de AABB te construeren, waarbij de hoek die de minimumwaarden vertegenwoordigt in x,y,z-coördinaten het punt is met de laagste coördinaten, en de hoek die de maximumwaarden vertegenwoordigt in x,y,z-coördinaten is het punt met de hoogste coördinaten.\n",
    "\\\\\n",
    "Om de gevonden begrenzingskader rond onze geroteerde cuboid terug te roteren naar het originele coordinatenstelsel van de input pointcloud gebruiken we volgende code:"
   ]
  },
  {
   "cell_type": "code",
   "execution_count": null,
   "metadata": {},
   "outputs": [],
   "source": [
    "# translate bounding box to original coordinate system\n",
    "# TODO: bb_points misschien opsplitsen in 2 variabelen\n",
    "bb_points = np.asarray(bb.get_box_points())\n",
    "bb_points = np.dot(np.linalg.inv(base_change_matrix), bb_points.T).T"
   ]
  },
  {
   "attachments": {},
   "cell_type": "markdown",
   "metadata": {},
   "source": [
    "\n",
    "\n",
    "\\texttt{np.asarray(bb.get_box_points())}: Haalt de coördinaten op van de 8 hoekpunten van de AABB en slaat deze op in \\texttt{bb_points}. Dit is een 8x3 matris met de 8 hoekpunten en 3 coördinaten(x,y,z) per punt.\n",
    "\\\\\n",
    "\\texttt{bb_points = np.dot(np.linalg.inv(base_change_matrix), bb_points.T).T}: Deze lijn berekent het puntproduct van de inverse van \\texttt{base_change_matrix} (3x3 matrix) en de transponering van \\texttt{bb_points} (8x3 matrix). Dit betekent dat het een matrixvermenigvuldiging van deze twee matrices uitvoert, wat resulteert in een 8x3 matrix. Vervolgens wordt de transponering opnieuw toegepast met \\texttt{.T} op het resultaat van het puntproduct, wat resulteert in een 3x8 matrix. We doen dit omdat open3d de gegevens op deze manier verwacht. De het eerste getal van de matrix moet het aantal waarnemingen vertegnwoordigen, de tweede de dimensie.\n",
    "\\\\\n",
    "Het resultaat hiervan zijn de coördinaten van begrenzinskader die zich in hetzelfde coördinatensysteem bevinden als de oorspronkelijke input puntenwolk. We doen dit zodat we het later visueel kunnen verifiëren dat de bounding box echt rond het object is getekend. Dit helpt om te beslissen of de opmeting op een juiste manier gebeurt is."
   ]
  },
  {
   "cell_type": "code",
   "execution_count": null,
   "metadata": {},
   "outputs": [],
   "source": [
    "\n",
    "# Visualize the oriented bounding box\n",
    "# Create an oriented bounding box from the transformed points\n",
    "new_bb = o3d.geometry.OrientedBoundingBox.create_from_points(o3d.utility.Vector3dVector(bb_points))\n",
    "new_bb.color = [0, 1, 0]\n",
    "\n",
    "\n",
    "width = bb.max_bound[0] - bb.min_bound[0]\n",
    "height = bb.max_bound[1] - bb.min_bound[1] + 0.02\n",
    "depth = bb.max_bound[2] - bb.min_bound[2]\n",
    "\n",
    "print(f\"Width: {width}, Height: {height}, Depth: {depth}\")\n",
    "\n",
    "# o3d.visualization.draw_geometries([cloud, new_bb])"
   ]
  },
  {
   "attachments": {},
   "cell_type": "markdown",
   "metadata": {},
   "source": [
    "\n",
    "\\texttt{new_bb}: Dit is een nieuwe puntenwolk die we gaan gebruiken om de begrenzingskader te visualiseren. We gebruiken de coördinaten van de 8 hoekpunten van de begrenzingskader die we net hebben berekend en we geven deze mee aan de functie \\texttt{create\\_from\\_points_()} om een nieuwe puntenwolk te maken van het gevonden begrenzingskader. We geven ook de kleur mee die we willen gebruiken om de begrenzingskader te visualiseren. \n",
    "\n",
    "\\texttt{min_bound} van een AxisAlignedBoundingBox-object komt overeen met de linkeronderhoek van het selectiekader. De eigenschap max_bound retourneert de tegenovergestelde hoek van het selectiekader, de rechterbovenhoek van het selectiekader.\n",
    "\n",
    "De breedte van \\texttt{bb} wordt berekend door de minimale x-coördinaat af te trekken van de maximale x-coördinaat, de hoogte van \\texttt{bb} wordt berekend door de minimale y-coördinaat af te trekken van de maximale y-coördinaat en er 0,02 bij op te tellen (dat is de eerder ingestelde drempel) en de diepte van \\texttt{bb} wordt berekend door de minimale z-coördinaat af te trekken van de maximale z-coördinaat. Ten slotte worden de afmetingen afgedrukt met behulp van de f-string (f\"Width: {width}, Height: {height}, Depth: {depth}\")"
   ]
  },
  {
   "cell_type": "code",
   "execution_count": null,
   "metadata": {},
   "outputs": [],
   "source": [
    "# o3d.visualization.draw_geometries([cloud, new_bb])"
   ]
  }
 ],
 "metadata": {
  "kernelspec": {
   "display_name": "base",
   "language": "python",
   "name": "python3"
  },
  "language_info": {
   "codemirror_mode": {
    "name": "ipython",
    "version": 3
   },
   "file_extension": ".py",
   "mimetype": "text/x-python",
   "name": "python",
   "nbconvert_exporter": "python",
   "pygments_lexer": "ipython3",
   "version": "3.9.12"
  },
  "orig_nbformat": 4,
  "vscode": {
   "interpreter": {
    "hash": "9c989041d992532e0b91a48157c549286f92417413d85e1f44b78593fb847874"
   }
  }
 },
 "nbformat": 4,
 "nbformat_minor": 2
}
